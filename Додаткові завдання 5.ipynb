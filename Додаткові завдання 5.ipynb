{
 "cells": [
  {
   "cell_type": "markdown",
   "metadata": {},
   "source": [
    "# Додаткові завдання №5"
   ]
  },
  {
   "cell_type": "markdown",
   "metadata": {},
   "source": [
    "## 1 Задача 1.10.10\n",
    "Випадкова величина $\\xi$ має щiльнiсть $p(x) = e^{-2 |x|}$.\n",
    "Обчислити\n",
    "1. $\\mathsf{P}(\\xi < 1)$;\n",
    "2. $\\mathsf{P}(\\xi < 3|\\xi \\geq 2)$;\n",
    "3. $\\mathsf{E}\\xi, \\mathsf{D}\\xi$."
   ]
  },
  {
   "cell_type": "markdown",
   "metadata": {},
   "source": [
    "1. $\\mathsf{P}(\\xi < 1)=(\\int_{-\\infty}^{1}e^{-2|t|}dt)=(\\int_{-\\infty}^{0}e^{2t}dt)+(\\int_{0}^{1}e^{-2t}dt)=0.5-0.5e^{-2}+0.5=1-0.5e^{-2}$;\n",
    "2. $\\mathsf{P}(\\xi < 3|\\xi \\geq 2)=(\\int_{2}^{3}e^{-2|t|}dt)=-0.5e^{-}+0.5e^{-4}$;\n",
    "3. $\\mathsf{E}\\xi=(\\int_{-\\infty}^{\\infty}te^{-2|t|}dt)=0$,\n",
    "$\\mathsf{D}\\xi=\\int_{-\\infty}^{\\infty}t^{2}e^{-2|t|}dt=2\\int_{-\\infty}^{0}t^{2}e^{2t}dt=0.25Г(3)=0.5$."
   ]
  },
  {
   "cell_type": "markdown",
   "metadata": {},
   "source": [
    "### 1.1 Завдання 1\n",
    "Реалізуйте випадкову величину $\\xi$ за допомогою класу [scipy.stats.rv_continuous](https://docs.scipy.org/doc/scipy/reference/generated/scipy.stats.rv_continuous.html)."
   ]
  },
  {
   "cell_type": "code",
   "execution_count": 5,
   "metadata": {},
   "outputs": [],
   "source": [
    "# Місце для Вашого коду\n",
    "\n",
    "from scipy.stats import rv_continuous\n",
    "class xi_(rv_continuous):\n",
    "    def _pdf(self, x):\n",
    "        return np.exp(-2*(np.abs(x))) "
   ]
  },
  {
   "cell_type": "markdown",
   "metadata": {},
   "source": [
    "### 1.2 Завдання 2\n",
    "Зобразіть графічно функцію щільності та функцію розподілу отриманої випадкової величини."
   ]
  },
  {
   "cell_type": "code",
   "execution_count": 8,
   "metadata": {},
   "outputs": [
    {
     "data": {
      "image/png": "[encoded data removed]",
      "text/plain": [
       "<Figure size 432x288 with 1 Axes>"
      ]
     },
     "metadata": {
      "needs_background": "light"
     },
     "output_type": "display_data"
    },
    {
     "data": {
      "image/png": "[encoded data removed]",
      "text/plain": [
       "<Figure size 432x288 with 1 Axes>"
      ]
     },
     "metadata": {
      "needs_background": "light"
     },
     "output_type": "display_data"
    }
   ],
   "source": [
    "# Місце для Вашого коду\n",
    "import matplotlib.pyplot as plt\n",
    "import numpy as np\n",
    "xi=xi_()\n",
    "x=np.arange(-1, 10, 0.01)\n",
    "y = xi.pdf(x)\n",
    "plt.plot(x, y)\n",
    "plt.show()\n",
    "x=np.arange(-1, 10, 0.01)\n",
    "y = xi.cdf(x)\n",
    "plt.plot(x, y)\n",
    "plt.show()"
   ]
  },
  {
   "cell_type": "markdown",
   "metadata": {},
   "source": [
    "### 1.3 Завдання 3\n",
    "Розв'яжіть задачу за допомогою отриманої випадкової величини та порівняйте результати з теоретично розрахованими."
   ]
  },
  {
   "cell_type": "code",
   "execution_count": 13,
   "metadata": {},
   "outputs": [
    {
     "name": "stdout",
     "output_type": "stream",
     "text": [
      "0.9323323583816931 0.9323323583816936\n",
      "0.007918443356022542 0.00791844335603391\n",
      "0.0\n",
      "0.49999999999999994\n"
     ]
    }
   ],
   "source": [
    "# Місце для Вашого коду\n",
    "print(xi.cdf(1), 1-0.5*np.exp(-2))\n",
    "print(xi.cdf(3)-xi.cdf(2), -0.5*np.exp(-6)+0.5*np.exp(-4))\n",
    "print(xi.expect())\n",
    "def f(x):\n",
    "    return (x - xi.expect())**2\n",
    "print(xi.expect(f))"
   ]
  },
  {
   "cell_type": "markdown",
   "metadata": {},
   "source": [
    "## 2 Апроксимація числа $\\pi$ (задача Бюффона)"
   ]
  },
  {
   "cell_type": "markdown",
   "metadata": {},
   "source": [
    "Розглянемо дві паралельні прямі на площині, відстань між якими дорівнює $1$. Не втрачаючи загальності, нехай ці прямі задаються рівностями $y = 0$ та $y = 1$. Кинемо на цю площину голку довжиною $1$ так, що координата по осі $y$ її середини рівномірно розподілена на $[0,1]$, а кут між голкою та віссю $x$ (додатною піввіссю $x$) рівномірно розподілений на $[0, \\pi]$. Тоді ймовірність того, що голка перетне будь-яку з паралельних прямих, дорівнює $2/\\pi$.\n",
    "\n",
    "Реалізуйте функцію емпіричної апроксимації числа $\\pi$ за $n$ симуляцій (кидання $n$ голок). Зобразіть графічно отримані елементи: паралельні прямі та всі голки. Виділіть точки, що належать колу, окремим кольором від інших точок.\n",
    "\n",
    "Виведіть результат функції для:\n",
    "1. $n = 10$\n",
    "2. $n = 100$\n",
    "3. $n = 500$\n",
    "4. $n = 1000$"
   ]
  },
  {
   "cell_type": "code",
   "execution_count": 27,
   "metadata": {},
   "outputs": [
    {
     "name": "stdout",
     "output_type": "stream",
     "text": [
      "4.0\n",
      "3.4482758620689657\n",
      "3.144654088050314\n",
      "3.236245954692557\n"
     ]
    }
   ],
   "source": [
    "# Місце для Вашого коду\n",
    "from scipy.stats import uniform\n",
    "def emp (n):\n",
    "    xi1=uniform(loc=0, scale=1)\n",
    "    xi2=uniform(loc=0, scale=np.pi)\n",
    "    xi1_=xi1.rvs(n)\n",
    "    xi2_=xi2.rvs(n)\n",
    "    l=0\n",
    "    a=(xi1_+0.5*np.abs(np.sin(xi2_))>=1)\n",
    "    b=(xi1_-0.5*np.abs(np.sin(xi2_))<=0)\n",
    "    #print(a, b)\n",
    "    rez=np.maximum(a,b)\n",
    "    p=(np.sum(rez))/n\n",
    "    pi=2/p\n",
    "    print(pi)\n",
    "emp(10)\n",
    "emp(100)\n",
    "emp(500)\n",
    "emp(1000)"
   ]
  },
  {
   "cell_type": "code",
   "execution_count": null,
   "metadata": {},
   "outputs": [],
   "source": []
  }
 ],
 "metadata": {
  "kernelspec": {
   "display_name": "Python 3",
   "language": "python",
   "name": "python3"
  },
  "language_info": {
   "codemirror_mode": {
    "name": "ipython",
    "version": 3
   },
   "file_extension": ".py",
   "mimetype": "text/x-python",
   "name": "python",
   "nbconvert_exporter": "python",
   "pygments_lexer": "ipython3",
   "version": "3.7.1"
  }
 },
 "nbformat": 4,
 "nbformat_minor": 1
}
