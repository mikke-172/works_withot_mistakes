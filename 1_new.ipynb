{
 "cells": [
  {
   "cell_type": "markdown",
   "metadata": {},
   "source": [
    "### 3.3 Задача\n",
    "Нехай $A$ - множина з $10$ елементів, кожен з яких є цілим числом від $1$ до $25$.\n",
    "Тобто $$A = \\{ a_i \\}_{i = 1}^{10},\\\\ 1 \\leq a_i \\leq 25, \\quad i = 1, \\ldots, 10.$$\n",
    "Скільки елементів може бути в множині, яка складається із попарних сум елементів множини $A$?\n",
    "$$B = \\{ b_k \\, \\colon \\, b_k = a_i + a_j, \\quad a_i, a_j \\in A, \\, 1 \\leq i, j \\leq 10, \\, i \\neq j \\}_{k = 1}^{\\textbf{?}}$$"
   ]
  },
  {
   "cell_type": "code",
   "execution_count": 1,
   "metadata": {},
   "outputs": [
    {
     "name": "stdout",
     "output_type": "stream",
     "text": [
      "17 (1, 2, 3, 4, 5, 6, 7, 8, 9, 10) {3, 4, 5, 6, 7, 8, 9, 10, 11, 12, 13, 14, 15, 16, 17, 18, 19} 39 (1, 2, 4, 7, 11, 15, 19, 22, 24, 25) {3, 5, 6, 8, 9, 11, 12, 13, 15, 16, 17, 18, 19, 20, 21, 22, 23, 24, 25, 26, 27, 28, 29, 30, 31, 32, 33, 34, 35, 36, 37, 39, 40, 41, 43, 44, 46, 47, 49}\n"
     ]
    }
   ],
   "source": [
    "# Місце для Вашого коду\n",
    "from itertools import combinations\n",
    "A=list(combinations(range(1, 26), 10))#Оскільки A - множина, то вважаємо, що в ній не повторюються елементи і щоб перебрати всі А, застосуєм комбінації без повторення\n",
    "min_len=float('inf')\n",
    "max_len=0\n",
    "for i in A:\n",
    "    A1=list(combinations(i, 2))\n",
    "    B=[]\n",
    "    for j in A1:\n",
    "        B.append(sum(j))\n",
    "    B=set(B)\n",
    "    #print(B)\n",
    "    if len(B)<min_len:\n",
    "        min_len=len(B)\n",
    "        min_sum=i\n",
    "        min_b=B\n",
    "    if len(B)>max_len:\n",
    "        max_len=len(B)\n",
    "        max_sum=i\n",
    "        max_b=B\n",
    "print(min_len, min_sum, min_b, max_len, max_sum, max_b)"
   ]
  },
  {
   "cell_type": "code",
   "execution_count": null,
   "metadata": {},
   "outputs": [],
   "source": []
  }
 ],
 "metadata": {
  "kernelspec": {
   "display_name": "Python 3",
   "language": "python",
   "name": "python3"
  },
  "language_info": {
   "codemirror_mode": {
    "name": "ipython",
    "version": 3
   },
   "file_extension": ".py",
   "mimetype": "text/x-python",
   "name": "python",
   "nbconvert_exporter": "python",
   "pygments_lexer": "ipython3",
   "version": "3.7.1"
  }
 },
 "nbformat": 4,
 "nbformat_minor": 2
}
